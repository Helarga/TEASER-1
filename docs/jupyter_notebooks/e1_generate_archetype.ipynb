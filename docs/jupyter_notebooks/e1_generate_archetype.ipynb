{
    "cells": [
        {
            "cell_type": "markdown",
            "metadata": {},
            "source": " Created July 2015\n TEASER 4 Development Team\n"
        },
        {
            "cell_type": "code",
            "execution_count": null,
            "metadata": {},
            "outputs": [],
            "source": "\"\"\"This module contains an example how to generate archetype buildings using\nTEASER API functions.\n\"\"\"\n"
        },
        {
            "cell_type": "markdown",
            "metadata": {},
            "source": " First step: Import the TEASER API (called Project) into your Python\n module\n"
        },
        {
            "cell_type": "code",
            "execution_count": null,
            "metadata": {},
            "outputs": [],
            "source": "from teaser.project import Project\n"
        },
        {
            "cell_type": "markdown",
            "metadata": {},
            "source": " To use the API instantiate the Project class and rename the Project. The\n parameter load_data=True indicates that we load `iwu` typology archetype\n data into our Project (e.g. for Material properties and typical wall\n constructions. This can take a few seconds, depending on the size of the\n used data base). Be careful: Dymola does not like whitespaces in names and\n filenames, thus we will delete them anyway in TEASER.\n"
        },
        {
            "cell_type": "code",
            "execution_count": null,
            "metadata": {},
            "outputs": [],
            "source": "prj = Project(load_data=True)\nprj.name = \"ArchetypeExample\"\n"
        },
        {
            "cell_type": "markdown",
            "metadata": {},
            "source": " There are two different types of archetype groups: residential and\n non-residential buildings. Two API functions offer the opportunity to\n generate specific archetypes.\n"
        },
        {
            "cell_type": "markdown",
            "metadata": {},
            "source": " To generate residential archetype buildings the function\n Project.add_residential() is used. Seven parameters are compulsory,\n additional parameters can be set according to the used method. `method`\n and `usage` are used to distinguish between different archetype\n methods. The name, year_of_construction, number and height of floors\n and net_leased_area need to be set to provide enough information for\n archetype generation. For specific information on the parameters please\n read the docs.\n"
        },
        {
            "cell_type": "code",
            "execution_count": null,
            "metadata": {},
            "outputs": [],
            "source": "prj.add_residential(\n    method='iwu',\n    usage='single_family_dwelling',\n    name=\"ResidentialBuilding\",\n    year_of_construction=1988,\n    number_of_floors=2,\n    height_of_floors=3.2,\n    net_leased_area=200.0)\n"
        },
        {
            "cell_type": "markdown",
            "metadata": {},
            "source": " To generate non-residential archetype buildings (in this case an\n office and a laboratory (a.k.a. institute)) the function\n Project.add_residential() is used. The meaning of compulsory parameters\n does not differ from the residential archetype building.\n"
        },
        {
            "cell_type": "code",
            "execution_count": null,
            "metadata": {},
            "outputs": [],
            "source": "prj.add_non_residential(\n    method='bmvbs',\n    usage='office',\n    name=\"OfficeBuilding\",\n    year_of_construction=1988,\n    number_of_floors=4,\n    height_of_floors=3.5,\n    net_leased_area=4500.0)\n\nprj.add_non_residential(\n    method='bmvbs',\n    usage='institute',\n    name=\"InstituteBuilding\",\n    year_of_construction=1952,\n    number_of_floors=5,\n    height_of_floors=4.0,\n    net_leased_area=3400.0)\n\nprj.add_non_residential(\n    method='bmvbs',\n    usage='institute',\n    name=\"InstituteBuildingMoisture\",\n    year_of_construction=1980,\n    number_of_floors=3,\n    height_of_floors=4.2,\n    net_leased_area=3600.0,\n    internal_gains_mode=3)\n"
        },
        {
            "cell_type": "markdown",
            "metadata": {},
            "source": " Besides `iwu` and `bmvbs` there is a third option for archetype\n generation. We integrated the typology of TABULA Germany\n (http://webtool.building-typology.eu/#bm) and other countries are about to\n follow. To use TABULA archetype simple choose `tabula_de` as the method\n and `single_family_house`, `multi_family_house`, `terraced_house` or\n `apartment_block` as the usage. In addition you can specify the\n construction type of TABULA, chose between `tabula_standard` (default),\n `tabula_retrofit` or `tabula_adv_retrofit`. In this case we generate one\n single and one multi family house with TABULA typology.\n"
        },
        {
            "cell_type": "markdown",
            "metadata": {},
            "source": " Please not: as we need to load the construction information which are\n rather big for TABULA, switching from one typology to another in the same\n Project takes some seconds. If you know from beginning you will only use\n TABULA typology you should instantiate you Project class without loading\n data. Project(load_data=False).\n"
        },
        {
            "cell_type": "code",
            "execution_count": null,
            "metadata": {},
            "outputs": [],
            "source": "prj.add_residential(\n    method='tabula_de',\n    usage='single_family_house',\n    name=\"ResidentialBuildingTabula\",\n    year_of_construction=1988,\n    number_of_floors=3,\n    height_of_floors=3.2,\n    net_leased_area=280.0,\n    construction_type='tabula_standard')\n\nprj.add_residential(\n    method='tabula_de',\n    usage='multi_family_house',\n    name=\"ResidentialBuildingTabulaMulti\",\n    year_of_construction=1960,\n    number_of_floors=4,\n    height_of_floors=3.2,\n    net_leased_area=600.0,\n    construction_type='tabula_retrofit')\n"
        }
    ],
    "metadata": {
        "kernelspec": {
            "display_name": "Python 3",
            "language": "python",
            "name": "python3"
        },
        "language_info": {
            "codemirror_mode": {
                "name": "ipython",
                "version": 3
            },
            "file_extension": ".py",
            "mimetype": "text/x-python",
            "name": "python",
            "nbconvert_exporter": "python",
            "pygments_lexer": "ipython3",
            "version": "3.6.4"
        }
    },
    "nbformat": 4,
    "nbformat_minor": 2
}