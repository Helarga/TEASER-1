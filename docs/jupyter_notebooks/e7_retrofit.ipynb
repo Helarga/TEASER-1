{
    "cells": [
        {
            "cell_type": "markdown",
            "metadata": {},
            "source": " Created July 2015\n TEASER Development Team\n"
        },
        {
            "cell_type": "code",
            "execution_count": null,
            "metadata": {},
            "outputs": [],
            "source": "\"\"\"This module contains an example that shows how to retrofit all buildings\nin a TEASER project with different setups\n\"\"\"\n\nimport teaser.examples.e1_generate_archetype as e1\n"
        },
        {
            "cell_type": "markdown",
            "metadata": {},
            "source": " In e1_generate_archetype we created a Project with three archetype\n buildings to get this Project we rerun this example\n"
        },
        {
            "cell_type": "code",
            "execution_count": null,
            "metadata": {},
            "outputs": [],
            "source": "prj = e1.example_generate_archetype()\n"
        },
        {
            "cell_type": "markdown",
            "metadata": {},
            "source": " To apply simplified retrofit for all buildings in the project we can\n use Project.retrofit_all_buildings() function. This will retrofit all\n building in the project in following manner:\n 1. Replace all window with a new window (default is EnEv window with\n U-Value of XYZ\n 2. Add an additional insulation layer to all outer walls (including,\n roof and ground floor). Set the thickness that it corresponds to the\n retrofit standard od the year of retrofit.\n The year of retrofit has to be specified. In addition, we can set\n the used window_type and the type of insulation material used.\n As we have both `iwu`/`bmvbs` and `tabuly` typology in our project we need\n to pass all keywords to the function year_of_retrofit, window_type,\n material for `iwu`/`bmvbs` and type_of_retrofit for `tabula`.\n"
        },
        {
            "cell_type": "code",
            "execution_count": null,
            "metadata": {},
            "outputs": [],
            "source": "prj.retrofit_all_buildings(\n    year_of_retrofit=2015,\n    type_of_retrofit=\"adv_retrofit\",\n    window_type='Alu- oder Stahlfenster, Isolierverglasung',\n    material='EPS_perimeter_insulation_top_layer')\n"
        }
    ],
    "metadata": {
        "kernelspec": {
            "display_name": "Python 3",
            "language": "python",
            "name": "python3"
        },
        "language_info": {
            "codemirror_mode": {
                "name": "ipython",
                "version": 3
            },
            "file_extension": ".py",
            "mimetype": "text/x-python",
            "name": "python",
            "nbconvert_exporter": "python",
            "pygments_lexer": "ipython3",
            "version": "3.6.4"
        }
    },
    "nbformat": 4,
    "nbformat_minor": 2
}