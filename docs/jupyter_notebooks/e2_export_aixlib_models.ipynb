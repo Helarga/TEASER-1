{
    "cells": [
        {
            "cell_type": "markdown",
            "metadata": {},
            "source": " Created January 2017\n TEASER Development Team\n"
        },
        {
            "cell_type": "code",
            "execution_count": null,
            "metadata": {},
            "outputs": [],
            "source": "\"\"\"This module contains an example how to export buildings from a TEASER\nproject to ready-to-run simulation models for Modelica library AixLib. These\nmodels will only simulate using Dymola, the reason for this are state\nmachines that are used in one AixLib specific AHU model.\n\"\"\"\n\nimport teaser.examples.e1_generate_archetype as e1\nimport teaser.logic.utilities as utilities\nimport os\n"
        },
        {
            "cell_type": "markdown",
            "metadata": {},
            "source": " In e1_generate_archetype we created a Project with three archetype\n buildings to get this Project we rerun this example\n"
        },
        {
            "cell_type": "code",
            "execution_count": null,
            "metadata": {},
            "outputs": [],
            "source": "prj = e1.example_generate_archetype()\n"
        },
        {
            "cell_type": "markdown",
            "metadata": {},
            "source": " To make sure the export is using the desired parameters you should\n always set model settings in the Project.\n Project().used_library_calc specifies the used Modelica library\n Project().number_of_elements_calc sets the models order\n For more information on models we'd like to refer you to the docs. By\n default TEASER uses a weather file provided in\n teaser.data.input.inputdata.weatherdata. You can use your own weather\n file by setting Project().weather_file_path. However we will use default\n weather file.\n Be careful: Dymola does not like whitespaces in names and filenames,\n thus we will delete them anyway in TEASER.\n"
        },
        {
            "cell_type": "markdown",
            "metadata": {},
            "source": " for CI testing purpose we set the reference result folder\n"
        },
        {
            "cell_type": "code",
            "execution_count": null,
            "metadata": {},
            "outputs": [],
            "source": "prj.dir_reference_results = utilities.get_full_path(\n    os.path.join(\n        \"examples\",\n        \"examplefiles\",\n        \"ReferenceResults\",\n        \"Dymola\"))\n\nprint(prj.dir_reference_results)\n\nprj.used_library_calc = 'AixLib'\nprj.number_of_elements_calc = 2\nprj.weather_file_path = utilities.get_full_path(\n    os.path.join(\n        \"data\",\n        \"input\",\n        \"inputdata\",\n        \"weatherdata\",\n        \"DEU_BW_Mannheim_107290_TRY2010_12_Jahr_BBSR.mos\"))\n"
        },
        {
            "cell_type": "markdown",
            "metadata": {},
            "source": " To make sure the parameters are calculated correctly we recommend to\n run calc_all_buildings() function\n"
        },
        {
            "cell_type": "code",
            "execution_count": null,
            "metadata": {},
            "outputs": [],
            "source": "prj.calc_all_buildings()\n"
        },
        {
            "cell_type": "markdown",
            "metadata": {},
            "source": " To export the ready-to-run models simply call Project.export_aixlib().\n You can specify the path, where the model files should be saved.\n None means, that the default path in your home directory\n will be used. If you only want to export one specific building, you can\n pass over the internal_id of that building and only this model will be\n exported. In this case we want to export all buildings to our home\n directory, thus we are passing over None for both parameters.\n"
        },
        {
            "cell_type": "code",
            "execution_count": null,
            "metadata": {},
            "outputs": [],
            "source": "path = prj.export_aixlib(\n    internal_id=None,\n    path=None)\n"
        }
    ],
    "metadata": {
        "kernelspec": {
            "display_name": "Python 3",
            "language": "python",
            "name": "python3"
        },
        "language_info": {
            "codemirror_mode": {
                "name": "ipython",
                "version": 3
            },
            "file_extension": ".py",
            "mimetype": "text/x-python",
            "name": "python",
            "nbconvert_exporter": "python",
            "pygments_lexer": "ipython3",
            "version": "3.6.4"
        }
    },
    "nbformat": 4,
    "nbformat_minor": 2
}